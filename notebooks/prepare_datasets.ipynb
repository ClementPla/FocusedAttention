{
 "cells": [
  {
   "cell_type": "code",
   "execution_count": 1,
   "metadata": {
    "collapsed": true
   },
   "outputs": [],
   "source": [
    "import os\n",
    "import cv2\n",
    "import tqdm\n",
    "import numpy as np"
   ]
  },
  {
   "cell_type": "code",
   "execution_count": 21,
   "outputs": [],
   "source": [
    "def transfer_files(root_folder, output_folders, dataset_name, filter_function=None,\n",
    "                   mask_as_jpeg=False):\n",
    "    listFolders = os.listdir(root_folder)\n",
    "    attributionMethods = [l for l in listFolders if l !='images']\n",
    "    imageFolder = os.path.join(root_folder, 'images')\n",
    "    listImages = os.listdir(imageFolder)\n",
    "    listImages = [_ for _ in listImages if _.endswith('.jpeg')]\n",
    "    if filter_function:\n",
    "        listImages = filter_function(listImages)\n",
    "    for file in tqdm.tqdm(listImages):\n",
    "        image = cv2.imread(os.path.join(imageFolder, file))\n",
    "        h, w, c = image.shape\n",
    "        imgOutputFolder = os.path.join(output_folders, 'image')\n",
    "        os.makedirs(imgOutputFolder, exist_ok=True)\n",
    "        cv2.imwrite(os.path.join(imgOutputFolder, dataset_name+'_'+file), image)\n",
    "        new_h = 384\n",
    "        new_w = int(w*(new_h/h))\n",
    "        for attrFolder in attributionMethods:\n",
    "            file = file.replace('jpeg', 'png')\n",
    "            outAttrFolder = os.path.join(output_folders, 'masks', attrFolder)\n",
    "            os.makedirs(outAttrFolder, exist_ok=True)\n",
    "            mask_path = os.path.join(root_folder, attrFolder, 'Heatmap', file)\n",
    "            mask = cv2.imread(mask_path, cv2.IMREAD_UNCHANGED)\n",
    "            mask = cv2.resize(mask, (new_w, new_h))\n",
    "            if mask_as_jpeg:\n",
    "                save_file = file.replace('png', 'jpeg')\n",
    "            else:\n",
    "                save_file = file\n",
    "            cv2.imwrite(os.path.join(outAttrFolder, dataset_name+'_'+save_file), mask)"
   ],
   "metadata": {
    "collapsed": false,
    "pycharm": {
     "name": "#%%\n"
    }
   }
  },
  {
   "cell_type": "code",
   "execution_count": 22,
   "outputs": [
    {
     "name": "stderr",
     "output_type": "stream",
     "text": [
      "100%|██████████| 27/27 [00:02<00:00, 12.03it/s]\n"
     ]
    }
   ],
   "source": [
    "root_folder = '/home/clement/Documents/phd/FocusedAttention/data/interpretabilityMaps/IDRID'\n",
    "output_folders = '../data/dataset'\n",
    "dataset_name = 'IDRID'\n",
    "transfer_files(root_folder, output_folders, dataset_name)\n"
   ],
   "metadata": {
    "collapsed": false,
    "pycharm": {
     "name": "#%%\n"
    }
   }
  },
  {
   "cell_type": "code",
   "execution_count": 23,
   "outputs": [
    {
     "name": "stderr",
     "output_type": "stream",
     "text": [
      "100%|██████████| 150/150 [00:12<00:00, 12.28it/s]\n"
     ]
    }
   ],
   "source": [
    "root_folder = '/home/clement/Documents/phd/FocusedAttention/data/interpretabilityMaps/Kermany'\n",
    "output_folders = '../data/dataset'\n",
    "dataset_name = 'Kermany'\n",
    "\n",
    "def filter_function(list_files):\n",
    "    def r_index(start, stop, n):\n",
    "        index = np.arange(start, stop)\n",
    "        np.random.shuffle(index)\n",
    "        return index[:n]\n",
    "    indexes = np.concatenate([r_index(250,500, 50), r_index(500,750, 50), r_index(750,1000, 50)])\n",
    "    return ['sample_%i.jpeg'%i for i in indexes]\n",
    "\n",
    "transfer_files(root_folder, output_folders, dataset_name, filter_function,\n",
    "               mask_as_jpeg=True)\n",
    "\n"
   ],
   "metadata": {
    "collapsed": false,
    "pycharm": {
     "name": "#%%\n"
    }
   }
  },
  {
   "cell_type": "code",
   "execution_count": null,
   "outputs": [],
   "source": [
    "\n"
   ],
   "metadata": {
    "collapsed": false,
    "pycharm": {
     "name": "#%%\n"
    }
   }
  }
 ],
 "metadata": {
  "kernelspec": {
   "display_name": "Python 3",
   "language": "python",
   "name": "python3"
  },
  "language_info": {
   "codemirror_mode": {
    "name": "ipython",
    "version": 2
   },
   "file_extension": ".py",
   "mimetype": "text/x-python",
   "name": "python",
   "nbconvert_exporter": "python",
   "pygments_lexer": "ipython2",
   "version": "2.7.6"
  }
 },
 "nbformat": 4,
 "nbformat_minor": 0
}